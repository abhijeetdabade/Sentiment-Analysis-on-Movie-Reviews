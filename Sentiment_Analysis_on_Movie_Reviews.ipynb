{
  "nbformat": 4,
  "nbformat_minor": 0,
  "metadata": {
    "colab": {
      "provenance": []
    },
    "kernelspec": {
      "name": "python3",
      "display_name": "Python 3"
    },
    "language_info": {
      "name": "python"
    }
  },
  "cells": [
    {
      "cell_type": "markdown",
      "source": [
        "## Step 1: Data Collections"
      ],
      "metadata": {
        "id": "VFy0sJDeuqEW"
      }
    },
    {
      "cell_type": "code",
      "execution_count": 68,
      "metadata": {
        "colab": {
          "base_uri": "https://localhost:8080/"
        },
        "id": "nGcdIpFmtuTF",
        "outputId": "9826b7a9-8d4b-4b18-84a9-3516782037cd"
      },
      "outputs": [
        {
          "output_type": "stream",
          "name": "stdout",
          "text": [
            "--2024-09-21 16:17:17--  https://ai.stanford.edu/~amaas/data/sentiment/aclImdb_v1.tar.gz\n",
            "Resolving ai.stanford.edu (ai.stanford.edu)... 171.64.68.10\n",
            "Connecting to ai.stanford.edu (ai.stanford.edu)|171.64.68.10|:443... connected.\n",
            "HTTP request sent, awaiting response... 200 OK\n",
            "Length: 84125825 (80M) [application/x-gzip]\n",
            "Saving to: ‘aclImdb_v1.tar.gz.2’\n",
            "\n",
            "aclImdb_v1.tar.gz.2 100%[===================>]  80.23M  7.07MB/s    in 17s     \n",
            "\n",
            "2024-09-21 16:17:35 (4.65 MB/s) - ‘aclImdb_v1.tar.gz.2’ saved [84125825/84125825]\n",
            "\n"
          ]
        }
      ],
      "source": [
        "# we use preprocessed data of movies review from standford educatons\n",
        "! wget https://ai.stanford.edu/~amaas/data/sentiment/aclImdb_v1.tar.gz"
      ]
    },
    {
      "cell_type": "markdown",
      "source": [
        "## Step 2 : Data Extraction"
      ],
      "metadata": {
        "id": "x9DyASTH2XEz"
      }
    },
    {
      "cell_type": "code",
      "source": [
        "import tarfile\n",
        "\n",
        "# Path to your .tar file\n",
        "tar_file_path = \"/content/aclImdb_v1.tar.gz\"\n",
        "\n",
        "# Open the .tar file\n",
        "with tarfile.open(tar_file_path, 'r') as tar:\n",
        "    # Extract all contents to the current directory\n",
        "    tar.extractall(path=\"desired_extraction_path\")\n",
        "\n",
        "print(\"Extraction completed!\")"
      ],
      "metadata": {
        "colab": {
          "base_uri": "https://localhost:8080/"
        },
        "id": "eM_Gk9WPv2XV",
        "outputId": "8de17ff0-24f3-4089-debb-e451c60b26e8"
      },
      "execution_count": 69,
      "outputs": [
        {
          "output_type": "stream",
          "name": "stdout",
          "text": [
            "Extraction completed!\n"
          ]
        }
      ]
    },
    {
      "cell_type": "markdown",
      "source": [
        "## Step 3: Data Preprocessing\n"
      ],
      "metadata": {
        "id": "WFKqPCrFvxAi"
      }
    },
    {
      "cell_type": "code",
      "source": [
        "# see the train & testing data\n",
        "\n",
        "import os\n",
        "\n",
        "def load_data(directory):\n",
        "    data, labels = [], []\n",
        "    for label_type in ['pos', 'neg']:\n",
        "        path = os.path.join(directory, label_type)\n",
        "        label = 1 if label_type == 'pos' else 0\n",
        "        for file in os.listdir(path):\n",
        "            with open(os.path.join(path, file), 'r', encoding='utf-8') as f:\n",
        "                data.append(f.read())\n",
        "                labels.append(label)\n",
        "    return data, labels\n",
        "\n",
        "# Paths to train and test directories\n",
        "train_dir = '/content/desired_extraction_path/aclImdb/train'\n",
        "test_dir = '/content/desired_extraction_path/aclImdb/test'\n",
        "\n",
        "# Load training and testing data\n",
        "train_data, train_labels = load_data(train_dir)\n",
        "test_data, test_labels = load_data(test_dir)\n",
        "\n",
        "print(f\"Train samples: {len(train_data)}, Test samples: {len(test_data)}\")\n"
      ],
      "metadata": {
        "colab": {
          "base_uri": "https://localhost:8080/"
        },
        "id": "PNAtvtNQt7FS",
        "outputId": "7e98b3c3-2847-4f0a-bb7b-3225c4eaccf3"
      },
      "execution_count": 70,
      "outputs": [
        {
          "output_type": "stream",
          "name": "stdout",
          "text": [
            "Train samples: 25000, Test samples: 25000\n"
          ]
        }
      ]
    },
    {
      "cell_type": "code",
      "source": [
        "# Count missing entries in the training data\n",
        "missing_entries = [i for i, review in enumerate(train_data) if not review.strip()]\n",
        "num_missing = len(missing_entries)\n",
        "\n",
        "print(f\"Number of missing entries in training data: {num_missing}\")\n",
        "if num_missing > 0:\n",
        "    print(\"Indices of missing entries:\", missing_entries)\n"
      ],
      "metadata": {
        "colab": {
          "base_uri": "https://localhost:8080/"
        },
        "id": "jLSkgE_uy_Mb",
        "outputId": "b3c5ce3e-390b-4c8a-9d31-a58114aef76d"
      },
      "execution_count": 71,
      "outputs": [
        {
          "output_type": "stream",
          "name": "stdout",
          "text": [
            "Number of missing entries in training data: 0\n"
          ]
        }
      ]
    },
    {
      "cell_type": "code",
      "source": [
        "# Display the first 5 training reviews\n",
        "for i in range(5):\n",
        "    print(f\"Review {i + 1}:\")\n",
        "    print(train_data[i])\n",
        "    print(\"-\" * 50)  # Separator\n"
      ],
      "metadata": {
        "colab": {
          "base_uri": "https://localhost:8080/"
        },
        "id": "i9LmzgQ_xDux",
        "outputId": "45ac9133-56bd-43c8-acd2-191b0428036f"
      },
      "execution_count": 72,
      "outputs": [
        {
          "output_type": "stream",
          "name": "stdout",
          "text": [
            "Review 1:\n",
            "I borrowed this movie despite its extremely low rating, because I wanted to see how the crew manages to animate the presence of multiple worlds. As a matter of fact, they didn't - at least, so its seems. Some cameo appearance cut rather clumsily into the movie - that's it, this is what the majority of viewers think. However, the surprise comes at the end, and unfortunately then, when probably most of the viewers have already stopped this movie. I was also astonished when I saw that the Brazilian-Portuguese title of this movie means \"Voyage into Death\". This is THE spoiler.<br /><br />That this movie is about a young girl who goes ALONE onto this boat (on reasons that are completely unclear), you understand only in the last 5 minutes. When you start the movie with the English title \"Haunted Boat\" in your head, you clearly think that the cameo appearances of strange figures are the \"ghosts\". But in reality, this movie is not like most other horror movies told from the distant writer-watcher perspective who can at almost any time differentiate between different levels of reality, it is told from the perspective of the young girl. We see her not alone, but together with the four friends because SHE sees them. We do not see that she is alone. So, the parallel worlds are not the cameo appearances flickering into the picture-stream, but the main story! We have at least two parallel worlds: The world in which the girl is and the world in which the 4 friends are. An intrusion of a third world is probably the young man with the medical skills who comes for a short time on the boat.<br /><br />I cannot get rid of the deep conviction that with this movie, the movie-makers \"cheated\" an audience of several thousand people by letting them believe that what they have done is more or less a sophomore film-student elaborate with hastily \"chosen\" pseudo-actors that have met just the night before the start of the shooting in a dump after at least twelve beers. How mistaken can one be! But in addition to this big surprise which one learns only in the very last minutes, the end that follows gives another surprise. The girl is saved by a crew in a helicopter and another boat. When she has recovered from her shock, she visits again the place at the harbor where she ascended the boat together with the four friends. And there they are again! They wave her to them from the boat which has already taken off shore. She jumps into the water, arrives at the boat - and they are away. Miraculously beautiful. It remembers me a bit to the end of a poem by a Rhetoromance writer: When I awoke, I saw Death standing at my bed. But I closed my eyes. When I opened them again - he was gone.\n",
            "--------------------------------------------------\n",
            "Review 2:\n",
            "Born Again is a okay episode of Season 1. The reincarnation bit, in my opinion, is cool. The more I watch it, the more I like it, yet it will never rise above 'Very Good' for me. Even though it is not very memorable, i'll always remember it as the reincarnation episode. Anyway, now I will say what is good and bad about this episode,<br /><br />The Good: Oragami. Oh Yeah!<br /><br />That Fish tank was nice. =]<br /><br />Thrown out of a window. Very classy. x]<br /><br />The Bad: Marry your Best Friend's wife!? O_O<br /><br />What a random pick to reincarnate.<br /><br />Why didn't the guy who died by having his scarf tangled up, try to take his scarf off instead?<br /><br />Conclusion: Okay episode, not very memorable. 7/10\n",
            "--------------------------------------------------\n",
            "Review 3:\n",
            "I was literally preparing to hate this movie, so believe me when I say this film is worth seeing. Overall, the story and gags are contrived, but the film has the charm and finesse to pull them off. That gag where Jason Lee thinks he has crabs, and tries not to let his boss/future father-in-law and co-workers see him scratching himself isn't terribly intelligent, but it sent me into a frenzy of laughter. Very few of the film's gags are high-brow, but they made me laugh. As I said, the film has charm and charm can go a long way. <br /><br />The characters are likable, too. I must say I wish I got to see more of James Brolin's character, since he was a hoot in the very few scenes he was in. Plus, I admire any romantic comedy that has the guts to not make the character of the wife (who serves as the obstacle in the plot) a total witch. The Selma Blair character is hardly unlikable, and there's never a scene where I thought to myself, \"Why did he want to marry her in the first place?\" The ending is Hollywood-ish, but it could've been much more schmaltzy. <br /><br />The cast is talented. I haven't had a favorable view of most of Jason Lee's mainstream work. I just loved him so much in Kevin Smith's films that I couldn't help but feel disappointed at seeing him in these dopey roles. And he never looks comfortable in these dopey roles. Even in this movie, he doesn't look perfectly comfortable, but he contributes his own two cents and effectively handles each scene. But I still miss his work in independent films. Julia Stiles proves again why she's so damn likable. Of course, she's a very beautiful girl with a radiant smile that makes me want to faint, but she also possesses a unique charm and seems to have good personality. In other words, her beauty shows inside and out. I don't know the actresses' name, but the woman who plays the drunk granny is hilarious. Julie Hagerty also has a small part, and she's always enjoyable to watch, which makes me wish she received better roles. I loved her so much in \"Airplane\" and \"Lost in America\" that it's a shame she doesn't get the same opportunities to flaunt her skills. <br /><br />Don't be put off by the horrible trailers and even more horrible box office records. This is a funny, charming film. Romantic comedies are getting so predictable nowadays that it feels like the genre itself is ready to be flushed down the toilet, so it's always to see a good one among all these bad apples. <br /><br />My score: 7 (out of 10)\n",
            "--------------------------------------------------\n",
            "Review 4:\n",
            "The Waiting Womans Ward of a large lying-in hospital, with all its joys and sorrows, is the place where LIFE BEGINS.<br /><br />This nearly forgotten drama is a fine little soap opera, replete with comedy and tragedy, all tied into the lives of the maternity staff and their patients. The frankness with which the subject matter is handled points up the movie's pre-Code status.<br /><br />Marvelous Aline MacMahon, as the sympathetic head nurse, is the calm center of the film, the rock around which all the currents flow. Able to handle any crisis or emergency, she is the mothers' best, sometimes last, friend. Surrounding MacMahon is a bevy of excellent costars: Loretta Young as a convicted murderess released from prison long enough to give birth; Eric Linden as her frightened young husband; brassy Glenda Farrell as a dame who hates children; sweet Clara Blandick as a very mature mother in for her sixth birthing; Preston Foster & Hale Hamilton as thoughtful, compassionate doctors and Frank McHugh as a comically frantic father-to-be.<br /><br />Movie mavens will recognize Bobs Watson as a wee tyke who wants to see the Stork; Paul Fix as a nervous husband who promises to behave like a `little soldier;' Gilbert Roland as a distraught Italian husband and Elizabeth Patterson as a snooty doctor's wife interested in adopting Farrell's son - all uncredited.<br /><br />There are a few absurdities in the plot - some of the mothers are obviously much too old; Farrell becomes blatantly drunk in the Ward but none of the staff seem to notice; an obviously psychotic patient is able to wander around at will - but this really only enhances the quirky entertainment value of the film and keeps things from becoming too serious.\n",
            "--------------------------------------------------\n",
            "Review 5:\n",
            "If you have seen Dogtown and Z-Boys or have any interest in seeing the real, non-caricature, \"Real American\" side of America then Riding Giants will hit deeper than anything you've seen before.<br /><br />This film is \"unreal\", a facile term if ever there was one, but hugely appropriate if you can derive any form of literal meaning out of it - it is a 100% factual documentary, but with all the drama of an opera, and the completely apparent sense of love, expert and knowing instilled by Stacy Peralta's direction and narration, this film expertly leads you from swell to big wave while keeping you completely enthralled in everything you are being given the privilege of seeing.<br /><br />This film is a symphony, crafted as well as Beethovens 9th, beginning beautifully with its prelude in Hawaii, tugging deeply on human emotion in Santa Cruz and finishing with uproar, triumph and crescendo in Laird Hamiltons feats, again in Hawaii.<br /><br />Like classical music; like Beethoven's 9th, Ride of the Valkyries or Barbers Adagio for Strings, this may be the only piece you like, but it's worth it. Trust me.\n",
            "--------------------------------------------------\n"
          ]
        }
      ]
    },
    {
      "cell_type": "code",
      "source": [
        "import matplotlib.pyplot as plt\n",
        "\n",
        "review_lengths = [len(review.split()) for review in train_data]\n",
        "plt.hist(review_lengths, bins=50)\n",
        "plt.title('Distribution of Review Lengths')\n",
        "plt.xlabel('Number of Words')\n",
        "plt.ylabel('Frequency')\n",
        "plt.show()\n"
      ],
      "metadata": {
        "colab": {
          "base_uri": "https://localhost:8080/",
          "height": 472
        },
        "id": "gkxhAmqEyOcy",
        "outputId": "d9e11dba-fb5d-4c3d-a381-65ceb25a5a33"
      },
      "execution_count": 73,
      "outputs": [
        {
          "output_type": "display_data",
          "data": {
            "text/plain": [
              "<Figure size 640x480 with 1 Axes>"
            ],
            "image/png": "[encoded data removed]"
          },
          "metadata": {}
        }
      ]
    },
    {
      "cell_type": "code",
      "source": [
        "# while observaing the data we saw that it's not properly preprocessed so we are remoing the HTML tafgs from review dataset\n",
        "\n",
        "from bs4 import BeautifulSoup\n",
        "\n",
        "def preprocess_text(train_data):\n",
        "    # Ensure that text is a string\n",
        "    text = str(text)\n",
        "    return BeautifulSoup(text, \"html.parser\").get_text()\n"
      ],
      "metadata": {
        "id": "2Kh-oiVDyg5Z"
      },
      "execution_count": 74,
      "outputs": []
    },
    {
      "cell_type": "code",
      "source": [
        "# Display more training reviews (e.g., first 10)\n",
        "for i in range(10):\n",
        "    label = \"Positive\" if train_labels[i] == 1 else \"Negative\"\n",
        "    print(f\"Review {i + 1} ({label}):\")\n",
        "    print(train_data[i])\n",
        "    print(\"-\" * 50)  # Separator\n"
      ],
      "metadata": {
        "colab": {
          "base_uri": "https://localhost:8080/"
        },
        "id": "-DOCtRCTyqSW",
        "outputId": "d69efeae-3650-4886-cfeb-4007b7f00f1f"
      },
      "execution_count": 75,
      "outputs": [
        {
          "output_type": "stream",
          "name": "stdout",
          "text": [
            "Review 1 (Positive):\n",
            "I borrowed this movie despite its extremely low rating, because I wanted to see how the crew manages to animate the presence of multiple worlds. As a matter of fact, they didn't - at least, so its seems. Some cameo appearance cut rather clumsily into the movie - that's it, this is what the majority of viewers think. However, the surprise comes at the end, and unfortunately then, when probably most of the viewers have already stopped this movie. I was also astonished when I saw that the Brazilian-Portuguese title of this movie means \"Voyage into Death\". This is THE spoiler.<br /><br />That this movie is about a young girl who goes ALONE onto this boat (on reasons that are completely unclear), you understand only in the last 5 minutes. When you start the movie with the English title \"Haunted Boat\" in your head, you clearly think that the cameo appearances of strange figures are the \"ghosts\". But in reality, this movie is not like most other horror movies told from the distant writer-watcher perspective who can at almost any time differentiate between different levels of reality, it is told from the perspective of the young girl. We see her not alone, but together with the four friends because SHE sees them. We do not see that she is alone. So, the parallel worlds are not the cameo appearances flickering into the picture-stream, but the main story! We have at least two parallel worlds: The world in which the girl is and the world in which the 4 friends are. An intrusion of a third world is probably the young man with the medical skills who comes for a short time on the boat.<br /><br />I cannot get rid of the deep conviction that with this movie, the movie-makers \"cheated\" an audience of several thousand people by letting them believe that what they have done is more or less a sophomore film-student elaborate with hastily \"chosen\" pseudo-actors that have met just the night before the start of the shooting in a dump after at least twelve beers. How mistaken can one be! But in addition to this big surprise which one learns only in the very last minutes, the end that follows gives another surprise. The girl is saved by a crew in a helicopter and another boat. When she has recovered from her shock, she visits again the place at the harbor where she ascended the boat together with the four friends. And there they are again! They wave her to them from the boat which has already taken off shore. She jumps into the water, arrives at the boat - and they are away. Miraculously beautiful. It remembers me a bit to the end of a poem by a Rhetoromance writer: When I awoke, I saw Death standing at my bed. But I closed my eyes. When I opened them again - he was gone.\n",
            "--------------------------------------------------\n",
            "Review 2 (Positive):\n",
            "Born Again is a okay episode of Season 1. The reincarnation bit, in my opinion, is cool. The more I watch it, the more I like it, yet it will never rise above 'Very Good' for me. Even though it is not very memorable, i'll always remember it as the reincarnation episode. Anyway, now I will say what is good and bad about this episode,<br /><br />The Good: Oragami. Oh Yeah!<br /><br />That Fish tank was nice. =]<br /><br />Thrown out of a window. Very classy. x]<br /><br />The Bad: Marry your Best Friend's wife!? O_O<br /><br />What a random pick to reincarnate.<br /><br />Why didn't the guy who died by having his scarf tangled up, try to take his scarf off instead?<br /><br />Conclusion: Okay episode, not very memorable. 7/10\n",
            "--------------------------------------------------\n",
            "Review 3 (Positive):\n",
            "I was literally preparing to hate this movie, so believe me when I say this film is worth seeing. Overall, the story and gags are contrived, but the film has the charm and finesse to pull them off. That gag where Jason Lee thinks he has crabs, and tries not to let his boss/future father-in-law and co-workers see him scratching himself isn't terribly intelligent, but it sent me into a frenzy of laughter. Very few of the film's gags are high-brow, but they made me laugh. As I said, the film has charm and charm can go a long way. <br /><br />The characters are likable, too. I must say I wish I got to see more of James Brolin's character, since he was a hoot in the very few scenes he was in. Plus, I admire any romantic comedy that has the guts to not make the character of the wife (who serves as the obstacle in the plot) a total witch. The Selma Blair character is hardly unlikable, and there's never a scene where I thought to myself, \"Why did he want to marry her in the first place?\" The ending is Hollywood-ish, but it could've been much more schmaltzy. <br /><br />The cast is talented. I haven't had a favorable view of most of Jason Lee's mainstream work. I just loved him so much in Kevin Smith's films that I couldn't help but feel disappointed at seeing him in these dopey roles. And he never looks comfortable in these dopey roles. Even in this movie, he doesn't look perfectly comfortable, but he contributes his own two cents and effectively handles each scene. But I still miss his work in independent films. Julia Stiles proves again why she's so damn likable. Of course, she's a very beautiful girl with a radiant smile that makes me want to faint, but she also possesses a unique charm and seems to have good personality. In other words, her beauty shows inside and out. I don't know the actresses' name, but the woman who plays the drunk granny is hilarious. Julie Hagerty also has a small part, and she's always enjoyable to watch, which makes me wish she received better roles. I loved her so much in \"Airplane\" and \"Lost in America\" that it's a shame she doesn't get the same opportunities to flaunt her skills. <br /><br />Don't be put off by the horrible trailers and even more horrible box office records. This is a funny, charming film. Romantic comedies are getting so predictable nowadays that it feels like the genre itself is ready to be flushed down the toilet, so it's always to see a good one among all these bad apples. <br /><br />My score: 7 (out of 10)\n",
            "--------------------------------------------------\n",
            "Review 4 (Positive):\n",
            "The Waiting Womans Ward of a large lying-in hospital, with all its joys and sorrows, is the place where LIFE BEGINS.<br /><br />This nearly forgotten drama is a fine little soap opera, replete with comedy and tragedy, all tied into the lives of the maternity staff and their patients. The frankness with which the subject matter is handled points up the movie's pre-Code status.<br /><br />Marvelous Aline MacMahon, as the sympathetic head nurse, is the calm center of the film, the rock around which all the currents flow. Able to handle any crisis or emergency, she is the mothers' best, sometimes last, friend. Surrounding MacMahon is a bevy of excellent costars: Loretta Young as a convicted murderess released from prison long enough to give birth; Eric Linden as her frightened young husband; brassy Glenda Farrell as a dame who hates children; sweet Clara Blandick as a very mature mother in for her sixth birthing; Preston Foster & Hale Hamilton as thoughtful, compassionate doctors and Frank McHugh as a comically frantic father-to-be.<br /><br />Movie mavens will recognize Bobs Watson as a wee tyke who wants to see the Stork; Paul Fix as a nervous husband who promises to behave like a `little soldier;' Gilbert Roland as a distraught Italian husband and Elizabeth Patterson as a snooty doctor's wife interested in adopting Farrell's son - all uncredited.<br /><br />There are a few absurdities in the plot - some of the mothers are obviously much too old; Farrell becomes blatantly drunk in the Ward but none of the staff seem to notice; an obviously psychotic patient is able to wander around at will - but this really only enhances the quirky entertainment value of the film and keeps things from becoming too serious.\n",
            "--------------------------------------------------\n",
            "Review 5 (Positive):\n",
            "If you have seen Dogtown and Z-Boys or have any interest in seeing the real, non-caricature, \"Real American\" side of America then Riding Giants will hit deeper than anything you've seen before.<br /><br />This film is \"unreal\", a facile term if ever there was one, but hugely appropriate if you can derive any form of literal meaning out of it - it is a 100% factual documentary, but with all the drama of an opera, and the completely apparent sense of love, expert and knowing instilled by Stacy Peralta's direction and narration, this film expertly leads you from swell to big wave while keeping you completely enthralled in everything you are being given the privilege of seeing.<br /><br />This film is a symphony, crafted as well as Beethovens 9th, beginning beautifully with its prelude in Hawaii, tugging deeply on human emotion in Santa Cruz and finishing with uproar, triumph and crescendo in Laird Hamiltons feats, again in Hawaii.<br /><br />Like classical music; like Beethoven's 9th, Ride of the Valkyries or Barbers Adagio for Strings, this may be the only piece you like, but it's worth it. Trust me.\n",
            "--------------------------------------------------\n",
            "Review 6 (Positive):\n",
            "A lot of the user comments i have seen on the IMDB for this movie don't really do it justice. First of all, let me just say that this movie is not to be taken seriously. It's supposed to be a fun, yet stupid movie, that doesn't require one to think, only to enjoy it. If you watch this movie with the intent to see a masterpiece in either filmmaking or in humour, then you will be sorely disappointed. Yet, if you want to just watch a goofy movie with some talented actors/actresses, and some good catch-phrases, then you will enjoy it.\n",
            "--------------------------------------------------\n",
            "Review 7 (Positive):\n",
            "<br /><br />In anticipation of Ang Lee's new movie \"Crouching Tiger, Hidden Dragon,\" I saw this at blockbuster and figured I'd give it a try. A civil war movie is not the typical movie I watch. Luckily though, I had a good feeling about this director. This movie was wonderfully written. The dialogue is in the old southern style, yet doesn't sound cornily out of place and outdated. The spectacular acting helped that aspect of the movie. Toby Maguire was awesome. I thought he was good (but nothing special) in Pleasantville, but here he shines. I have always thought of Skeet Ulrich as a good actor (but nothing special), but here he is excellent as well. The big shocker for me was Jewel. She was amazingly good. Jeffrey Wright, who I had never heard of before, is also excellent in this movie. It seems to me that great acting and great writing and directing go hand in hand. A movie with bad writing makes the actors look bad and visa versa. This movie had the perfect combination. The actors look brilliant and the character development is spectacular. This movie keeps you wishing and hoping good things for some and bad things for others. It lets you really get to know the characters, which are all very dynamic and interesting. The plot is complex, and keeps you on the edge of your seat, guessing, and ready for anything at any time. Literally dozens of times I was sure someone was going to get killed on silent parts in the movie that were \"too quiet\" (brilliant directing). This was also a beautifully shot movie. The scenery was not breath taking (It's in Missouri and Kansas for goodness sakez) but there was clearly much attention put into picking great nature settings. Has that rough and rugged feel, but keeps an elegance, which is very pleasant on the eyes. The movie was deep. It told a story and in doing so made you think. It had layers underneath that exterior civil war story. Specifically, it focused on two characters that were not quite sure what they were fighting for. There were many more deep issues dealt with in this movie, too many to pick out. It was like a beautifully written short story, filled with symbolism and artistic extras that leaves you thinking during and after the story is done. If you like great acting, writing, lots of action, and some of the best directing ever, see this movie! Take a chance on it.\n",
            "--------------------------------------------------\n",
            "Review 8 (Positive):\n",
            "Barbra Streisand's first television special was simply fantastic! From her skit as a child to her medley of songs in a high-fashion department store -- everything was top-notch! It was easy to understand how this special received awards.<br /><br />Not muddled down by guest appearances, the focus remained on Barbra thoughout the entire production.\n",
            "--------------------------------------------------\n",
            "Review 9 (Positive):\n",
            "It is Queen Victoria's misfortune to be defined as an historical figure according to her relationships with men.Shortly after she succeeded to the throne she came under the influence of her Prime Minister Lord Melbourne to the extent that she became known as \"Mrs Melbourne\".After the death of her beloved husband,Albert,she was referred to as \"The Widow at Windsor\",and years later,a long friendship with her Scottish ghillie John Brown earned her the nickname \"Mrs Brown\".Such is the price women paid in a patriarchal society. The reality is somewhat different and \"Young Victoria\" goes some way towards putting the record straight,depicting the queen as an intelligent and independent young woman conscious of the inequities in her society and at her court. Courts have always been hotbeds of seething jealousy,plotting and counter-plotting,naked ambition and sometimes,outright murder. As an 18 year old innocent,Victoria ascended to her uncle's throne,thus initiating a positive orgy of intrigue and a power-struggle between Prime minister Lord Melbourne and his rival Sir Robert Peel. Lord Melbourne cuts a dash in the Old Public School Man kind of way with his finely-honed cynicism and his well-polished gems of advice. Hardly surprising then that the young queen finds herself in awe of him,and even perhaps a little in love,an awe that he ruthlessly exploits,drawing a fine line between attempted seduction and attempted sedition as he forces his policies through against Victoria's better judgement. Into the arena rides Prince Albert,on a mission from King Leopold of Belgium,keen on political rapprochement between Great Britain and the rest of Europe. At first a reluctant suitor,he soon falls in love with the English queen and palliates the influence of the politicians and courtiers. \"The Young Victoria\" is a beautifully photographed,brilliantly-scored and very sumptuous movie.I note that it has been criticised in some quarters for this sumptuousness as if a movie about 19th century English Royalty should somehow have shown the Empress of India and her family living in rags in a filthy workhouse........I don't think so. I must single out the remarkable Miss Emily Blunt whose beauty reminded me of the young Princess Margaret's.Hers is obviously the pivotal role, and she has absolutely no trouble in dominating the film despite strong performances from Mr Jim Broadbent,Miss Miranda Richardson and Miss Harriet Walter,all immeasurably more experienced. The music is suitably regal and forms a cohesive part of the whole movie without being in any way obtrusive. The fact that Britan flourished more under its two great queens,Elizabeth the First and Victoria,than at any other time is a matter Feminists might like to make more of,but,I suspect,like Prime Minister Margaret Thatcher really powerful women make them feel uncomfortable.If you can work out why there might be a Ph.D . in it.\n",
            "--------------------------------------------------\n",
            "Review 10 (Positive):\n",
            "Felix Unger (Jack Lemmon) has just been dumped by his wife, because he is one of the most annoying , neurotic people in the world. Suicide is his way out, but he just can't seem to get it to work, so he heads over to his friends house. Oscar Madison (Walther Matthau) is also recently divorced and living it up in bachelor heaven. Smoking, gambling, hitting on chicks, eating out and never cleaning is paradise to him. Well, with the suicide attempts Oscar decides to let Felix move in. At first, it is a match made in heaven, Felix cooks and cleans and helps Oscar pay his alimony on time, but soon Oscar is jonesing for women and Felix (who in today's world would probably be gay) isn't ready to move on. They invite a couple of British birds over and they find Felix so tender that soon they and Felix are weeping and chatting about his family life, leaving Oscar denied. This is it, he explodes and throws him out, but Felix isn't as helpless as it seems, and soon he has the upper hand. My favorite quote \"You leave me little notes on my pillow. Told you 158 times I can't stand little notes on my pillow. \"We're all out of cornflakes. F.U.\" Took me three hours to figure out F.U. was Felix Ungar!\" Based on a Neil Simon play (who also wrote the screenplay), this has a certain theatre feel to it. Set and the repartee and looks feel quite play-like (for better or worse). Lemmon and Mathau have excellent comedic chemistry and have appeared in the Grumpier Old Men movies and Out to Sea, reprising the same finicky/slob roles, but with different names (to avoid royalty issues, I'm sure).<br /><br />This movie is like strawberries dipped in chocolate. The chocolate is smooth, sweet and rich, the strawberry is tart, juicy and bright red (unless you get those nasty greenish ones). They are almost polar opposites, but together, the contrasts highlight each other and make a wonderful dessert. 7/10 <br /><br />http://blog.myspace.com/locoformovies\n",
            "--------------------------------------------------\n"
          ]
        }
      ]
    },
    {
      "cell_type": "code",
      "source": [
        "# still some HTML tags are present in review's\n",
        "\n",
        "from bs4 import BeautifulSoup\n",
        "\n",
        "def preprocess_text(text):\n",
        "    return BeautifulSoup(text, \"html.parser\").get_text()\n",
        "\n",
        "# Example review\n",
        "review = \"\"\"In anticipation of Ang Lee's new movie \"Crouching Tiger, Hidden Dragon,\" I saw this at blockbuster...\"\"\"\n",
        "cleaned_review = preprocess_text(review)\n",
        "print(\"Cleaned Review:\", cleaned_review)\n"
      ],
      "metadata": {
        "colab": {
          "base_uri": "https://localhost:8080/"
        },
        "id": "3nBOsjZDztE0",
        "outputId": "ea00e3c8-ed8d-4943-8ea2-6dd80c143b02"
      },
      "execution_count": 76,
      "outputs": [
        {
          "output_type": "stream",
          "name": "stdout",
          "text": [
            "Cleaned Review: In anticipation of Ang Lee's new movie \"Crouching Tiger, Hidden Dragon,\" I saw this at blockbuster...\n"
          ]
        }
      ]
    },
    {
      "cell_type": "code",
      "source": [
        "# data cleaning from tags\n",
        "\n",
        "train_data_cleaned = [preprocess_text(review) for review in train_data]\n",
        "test_data_cleaned = [preprocess_text(review) for review in test_data]\n"
      ],
      "metadata": {
        "colab": {
          "base_uri": "https://localhost:8080/"
        },
        "id": "6ijxGHQy0Avv",
        "outputId": "7fdea361-77bc-4481-ec9a-33fdb0b6c02c"
      },
      "execution_count": 77,
      "outputs": [
        {
          "output_type": "stream",
          "name": "stderr",
          "text": [
            "<ipython-input-76-ad4ada6706ef>:6: MarkupResemblesLocatorWarning: The input looks more like a filename than markup. You may want to open this file and pass the filehandle into Beautiful Soup.\n",
            "  return BeautifulSoup(text, \"html.parser\").get_text()\n"
          ]
        }
      ]
    },
    {
      "cell_type": "code",
      "source": [
        "# Display cleaned reviews for training data\n",
        "\n",
        "for i in range(5):\n",
        "    print(f\"Cleaned Review of trained dataset: {i + 1}:\")\n",
        "    print(train_data_cleaned[i])\n",
        "    print(\"-\" * 50)  # Separator\n"
      ],
      "metadata": {
        "colab": {
          "base_uri": "https://localhost:8080/"
        },
        "id": "uKirmFwk0t3v",
        "outputId": "e505559e-9083-4c69-b23c-48eb11b18285"
      },
      "execution_count": 78,
      "outputs": [
        {
          "output_type": "stream",
          "name": "stdout",
          "text": [
            "Cleaned Review of trained dataset: 1:\n",
            "I borrowed this movie despite its extremely low rating, because I wanted to see how the crew manages to animate the presence of multiple worlds. As a matter of fact, they didn't - at least, so its seems. Some cameo appearance cut rather clumsily into the movie - that's it, this is what the majority of viewers think. However, the surprise comes at the end, and unfortunately then, when probably most of the viewers have already stopped this movie. I was also astonished when I saw that the Brazilian-Portuguese title of this movie means \"Voyage into Death\". This is THE spoiler.That this movie is about a young girl who goes ALONE onto this boat (on reasons that are completely unclear), you understand only in the last 5 minutes. When you start the movie with the English title \"Haunted Boat\" in your head, you clearly think that the cameo appearances of strange figures are the \"ghosts\". But in reality, this movie is not like most other horror movies told from the distant writer-watcher perspective who can at almost any time differentiate between different levels of reality, it is told from the perspective of the young girl. We see her not alone, but together with the four friends because SHE sees them. We do not see that she is alone. So, the parallel worlds are not the cameo appearances flickering into the picture-stream, but the main story! We have at least two parallel worlds: The world in which the girl is and the world in which the 4 friends are. An intrusion of a third world is probably the young man with the medical skills who comes for a short time on the boat.I cannot get rid of the deep conviction that with this movie, the movie-makers \"cheated\" an audience of several thousand people by letting them believe that what they have done is more or less a sophomore film-student elaborate with hastily \"chosen\" pseudo-actors that have met just the night before the start of the shooting in a dump after at least twelve beers. How mistaken can one be! But in addition to this big surprise which one learns only in the very last minutes, the end that follows gives another surprise. The girl is saved by a crew in a helicopter and another boat. When she has recovered from her shock, she visits again the place at the harbor where she ascended the boat together with the four friends. And there they are again! They wave her to them from the boat which has already taken off shore. She jumps into the water, arrives at the boat - and they are away. Miraculously beautiful. It remembers me a bit to the end of a poem by a Rhetoromance writer: When I awoke, I saw Death standing at my bed. But I closed my eyes. When I opened them again - he was gone.\n",
            "--------------------------------------------------\n",
            "Cleaned Review of trained dataset: 2:\n",
            "Born Again is a okay episode of Season 1. The reincarnation bit, in my opinion, is cool. The more I watch it, the more I like it, yet it will never rise above 'Very Good' for me. Even though it is not very memorable, i'll always remember it as the reincarnation episode. Anyway, now I will say what is good and bad about this episode,The Good: Oragami. Oh Yeah!That Fish tank was nice. =]Thrown out of a window. Very classy. x]The Bad: Marry your Best Friend's wife!? O_OWhat a random pick to reincarnate.Why didn't the guy who died by having his scarf tangled up, try to take his scarf off instead?Conclusion: Okay episode, not very memorable. 7/10\n",
            "--------------------------------------------------\n",
            "Cleaned Review of trained dataset: 3:\n",
            "I was literally preparing to hate this movie, so believe me when I say this film is worth seeing. Overall, the story and gags are contrived, but the film has the charm and finesse to pull them off. That gag where Jason Lee thinks he has crabs, and tries not to let his boss/future father-in-law and co-workers see him scratching himself isn't terribly intelligent, but it sent me into a frenzy of laughter. Very few of the film's gags are high-brow, but they made me laugh. As I said, the film has charm and charm can go a long way. The characters are likable, too. I must say I wish I got to see more of James Brolin's character, since he was a hoot in the very few scenes he was in. Plus, I admire any romantic comedy that has the guts to not make the character of the wife (who serves as the obstacle in the plot) a total witch. The Selma Blair character is hardly unlikable, and there's never a scene where I thought to myself, \"Why did he want to marry her in the first place?\" The ending is Hollywood-ish, but it could've been much more schmaltzy. The cast is talented. I haven't had a favorable view of most of Jason Lee's mainstream work. I just loved him so much in Kevin Smith's films that I couldn't help but feel disappointed at seeing him in these dopey roles. And he never looks comfortable in these dopey roles. Even in this movie, he doesn't look perfectly comfortable, but he contributes his own two cents and effectively handles each scene. But I still miss his work in independent films. Julia Stiles proves again why she's so damn likable. Of course, she's a very beautiful girl with a radiant smile that makes me want to faint, but she also possesses a unique charm and seems to have good personality. In other words, her beauty shows inside and out. I don't know the actresses' name, but the woman who plays the drunk granny is hilarious. Julie Hagerty also has a small part, and she's always enjoyable to watch, which makes me wish she received better roles. I loved her so much in \"Airplane\" and \"Lost in America\" that it's a shame she doesn't get the same opportunities to flaunt her skills. Don't be put off by the horrible trailers and even more horrible box office records. This is a funny, charming film. Romantic comedies are getting so predictable nowadays that it feels like the genre itself is ready to be flushed down the toilet, so it's always to see a good one among all these bad apples. My score: 7 (out of 10)\n",
            "--------------------------------------------------\n",
            "Cleaned Review of trained dataset: 4:\n",
            "The Waiting Womans Ward of a large lying-in hospital, with all its joys and sorrows, is the place where LIFE BEGINS.This nearly forgotten drama is a fine little soap opera, replete with comedy and tragedy, all tied into the lives of the maternity staff and their patients. The frankness with which the subject matter is handled points up the movie's pre-Code status.Marvelous Aline MacMahon, as the sympathetic head nurse, is the calm center of the film, the rock around which all the currents flow. Able to handle any crisis or emergency, she is the mothers' best, sometimes last, friend. Surrounding MacMahon is a bevy of excellent costars: Loretta Young as a convicted murderess released from prison long enough to give birth; Eric Linden as her frightened young husband; brassy Glenda Farrell as a dame who hates children; sweet Clara Blandick as a very mature mother in for her sixth birthing; Preston Foster & Hale Hamilton as thoughtful, compassionate doctors and Frank McHugh as a comically frantic father-to-be.Movie mavens will recognize Bobs Watson as a wee tyke who wants to see the Stork; Paul Fix as a nervous husband who promises to behave like a `little soldier;' Gilbert Roland as a distraught Italian husband and Elizabeth Patterson as a snooty doctor's wife interested in adopting Farrell's son - all uncredited.There are a few absurdities in the plot - some of the mothers are obviously much too old; Farrell becomes blatantly drunk in the Ward but none of the staff seem to notice; an obviously psychotic patient is able to wander around at will - but this really only enhances the quirky entertainment value of the film and keeps things from becoming too serious.\n",
            "--------------------------------------------------\n",
            "Cleaned Review of trained dataset: 5:\n",
            "If you have seen Dogtown and Z-Boys or have any interest in seeing the real, non-caricature, \"Real American\" side of America then Riding Giants will hit deeper than anything you've seen before.This film is \"unreal\", a facile term if ever there was one, but hugely appropriate if you can derive any form of literal meaning out of it - it is a 100% factual documentary, but with all the drama of an opera, and the completely apparent sense of love, expert and knowing instilled by Stacy Peralta's direction and narration, this film expertly leads you from swell to big wave while keeping you completely enthralled in everything you are being given the privilege of seeing.This film is a symphony, crafted as well as Beethovens 9th, beginning beautifully with its prelude in Hawaii, tugging deeply on human emotion in Santa Cruz and finishing with uproar, triumph and crescendo in Laird Hamiltons feats, again in Hawaii.Like classical music; like Beethoven's 9th, Ride of the Valkyries or Barbers Adagio for Strings, this may be the only piece you like, but it's worth it. Trust me.\n",
            "--------------------------------------------------\n"
          ]
        }
      ]
    },
    {
      "cell_type": "code",
      "source": [
        "# Display cleaned reviews for test dataset\n",
        "\n",
        "for i in range(5):\n",
        "    print(f\"Cleaned Review of test dataset:{i + 1}:\")\n",
        "    print(test_data_cleaned[i])\n",
        "    print(\"-\" * 50)  # Separator"
      ],
      "metadata": {
        "colab": {
          "base_uri": "https://localhost:8080/"
        },
        "id": "rknLfYK81iZD",
        "outputId": "c9e244da-7b6d-49fa-fb6b-927619885898"
      },
      "execution_count": 79,
      "outputs": [
        {
          "output_type": "stream",
          "name": "stdout",
          "text": [
            "Cleaned Review of test dataset:1:\n",
            "An exquisite film. They just don't make them like this any more! We eavesdrop on an upper middle class family in Dublin in the early part of the 20th century. They are hosting an after Christmas dinner for their friends and relatives. Their table talk is just idle chatter but it is so well written that one is engrossed. Away from the dinner table some fine piano playing helps to create an intimate atmosphere as if one were there as one of the guests. Perhaps a bit too perfect for an amateur player, the odd mistake here and there would have added to the magic of this film. No real story but real entertainment and an object lesson for up and coming film makers.\n",
            "--------------------------------------------------\n",
            "Cleaned Review of test dataset:2:\n",
            "Strange but acceptable mob comedy that has an undercover FBI agent (Matthew Modine) flirting with a mobster's concerned widow (Michelle Pfeffier) to tie two murders on a elusive mob boss (Dean Stockwell).The movie shows that it doesn't have to go over the top just to be funny and director Jonathan Demme (\"The Silence of the Lambs\", \"Philadelphia\") keeps the movie from looking like it being was restrained. That's good and it avoids being predictiable, too.\n",
            "--------------------------------------------------\n",
            "Cleaned Review of test dataset:3:\n",
            "I first saw this movie back in 1994 or '95 during my freshman year in high school when it was on Lifetime. After I first saw it, I thought it was wonderful. Sure, it may not have run longer, but it is as accurate as can be in my own opinion (regardless of what anyone else may think). Cynthia Gibb was great at portraying Karen, and Mitchell Anderson was okay as Richard. Louise Fletcher (Yes, who played Nurse Ratched in 1975's \"One Flew Over the Cuckoo's Nest\") was fine as well, but I found her version of Agnes (Karen and Richard's mother) to be a little bit of a control freak. I am an EXTREMELY HUGE fan of the Carpenters, and I believe that Karen's voice was and still is so wonderful. It really saddens me about the fact that she is gone and had left this earth too soon, but thanks to the never ending popularity of her music and her angelic voice, the music will live on. Anyway, back on track to this movie, it really is a mystery to me and possibly other people (fans and non-fans of the Carpenters) as to what caused Karen to end up getting this problem with her health. Was it the media that was responsible or was it just Karen's decision? I would not believe that it was her decision. It could have been the media from one article that was printed out about her somewhere in '70, when their hit \"Close to You\" came out (from what was shown in the film). There are some other moments in the movie as well. Richard's struggle with drugs, and Karen's brief marriage. I did not hear about her loss in February of 1983, as I was not yet into watching the news; I had found out years later. I don't know if there will be another movie about the Carpenters or Karen made in the future, but until then, this movie will do fine. I will say this though: If Karen had disregarded the false details of that article or any future articles that might have been published with similar content calling her \"chubby\" (which must have been quite an insult), she would still be here on this earth today. I know that she is in Heaven and probably entertaining everyone with her beautiful voice. God bless you, Karen!!\n",
            "--------------------------------------------------\n",
            "Cleaned Review of test dataset:4:\n",
            "This is not a 'real' James Cagney vehicle since his screen time is unusually slim. Frankie Darro plays tough kid Jimmy Smith, the leader of a gang of street thugs that is sent to reform school with a few of his hoodlum friends. Cagney plays Patsy Gargan, a gang leader himself, who is given a token position as a deputy commissioner. When he finds out first hand of the brutal treatment dished out at the reform school, he is compelled to make some major changes with the help of the reformatory nurse(Madge Evans). THE MAYOR of HELL is fast paced and is still entertaining after all these years. The cast is well rounded featuring: Dudley Digges, Arthur Bryon, 'Farina' Hoskins, G. Pat Collins and Allen Jenkins.\n",
            "--------------------------------------------------\n",
            "Cleaned Review of test dataset:5:\n",
            "Cleopatra 2525 is a very funny, entertaining show. You shouldn't take all the show seriously, but if you wanna have fun, that's your TV show. Being made by the producers of Xena is a quality guarantee, and Cleopatra 2525 isn't that different from Xena. The female warriors formula is brought to the future, where they don't have to fight warriors or gods, but dangerous robots which dwell in the surface, and the humans are forced to live underground. Along the two seasons of Cleopatra, they develop an interesting and funny underground world, and we get to know the three main characters: Cleopatra (Jennifer Sky), Hel (Gina Torres) and Sarge (Victoria Pratt). They all are different, but as a team, they work really well. The three main actresses appeared previously in Xena, like most of the regular/guest cast (there are some known faces from Hercules too, or from both shows). I specially liked the character played by Danielle Cormack (Ephiny in Xena), which is very different from any of her roles I previously knew. So if you liked Xena and Hercules, you'll love Cleopatra 2525. If you don't know them, try it: I'm sure you'll enjoy it.\n",
            "--------------------------------------------------\n"
          ]
        }
      ]
    },
    {
      "cell_type": "markdown",
      "source": [
        "## Step 4: Training the Model\n"
      ],
      "metadata": {
        "id": "uhy3hdlN263V"
      }
    },
    {
      "cell_type": "markdown",
      "source": [
        "### Step 4.1: Feature Extractions"
      ],
      "metadata": {
        "id": "zWX9nMhB0_EY"
      }
    },
    {
      "cell_type": "code",
      "source": [
        "from sklearn.feature_extraction.text import TfidfVectorizer\n",
        "\n",
        "# Create and fit the TF-IDF vectorizer\n",
        "tfidf_vectorizer = TfidfVectorizer(max_features=25000)  # Adjust max_features as needed\n",
        "tfidf_vectorizer.fit(train_data_cleaned)  # Fit on your cleaned training data\n",
        "\n",
        "# Transform both the training and test data\n",
        "X_train_tfidf = tfidf_vectorizer.transform(train_data_cleaned)\n",
        "X_test_tfidf = tfidf_vectorizer.transform(test_data_cleaned)  # Assuming you have cleaned test data\n"
      ],
      "metadata": {
        "id": "iUdsXZXq0xHB"
      },
      "execution_count": 80,
      "outputs": []
    },
    {
      "cell_type": "markdown",
      "source": [
        "### Step 4.2: Train a Sentiment Classification Model"
      ],
      "metadata": {
        "id": "i7s2JcDX1t-2"
      }
    },
    {
      "cell_type": "code",
      "source": [
        "from sklearn.linear_model import LogisticRegression\n",
        "from sklearn.model_selection import train_test_split\n",
        "import joblib  # For saving the model later\n",
        "\n",
        "# Splitting the training data if needed\n",
        "X_train, X_val, y_train, y_val = train_test_split(X_train_tfidf, train_labels, test_size=0.2, random_state=42)\n",
        "\n",
        "# Initialize and train the model\n",
        "model = LogisticRegression()\n",
        "model.fit(X_train, y_train)\n",
        "\n",
        "# Evaluate the model on the validation set\n",
        "val_accuracy = model.score(X_val, y_val)\n",
        "print(f\"Validation Accuracy: {val_accuracy * 100:.2f}%\")\n"
      ],
      "metadata": {
        "colab": {
          "base_uri": "https://localhost:8080/"
        },
        "id": "Th02X_Q31CFj",
        "outputId": "5e2f6355-8082-4203-d44d-7c1fa8955e71"
      },
      "execution_count": 81,
      "outputs": [
        {
          "output_type": "stream",
          "name": "stdout",
          "text": [
            "Validation Accuracy: 88.50%\n"
          ]
        }
      ]
    },
    {
      "cell_type": "markdown",
      "source": [
        "### Step 4.3: Sava the model"
      ],
      "metadata": {
        "id": "tK_LPs3b2C5q"
      }
    },
    {
      "cell_type": "code",
      "source": [
        "joblib.dump(model, 'sentiment_model.pkl')  # Save the trained model\n"
      ],
      "metadata": {
        "colab": {
          "base_uri": "https://localhost:8080/"
        },
        "id": "MbL2XB6v1_Kl",
        "outputId": "6ace80be-b7df-4556-d3ea-df0131ecb5f5"
      },
      "execution_count": 82,
      "outputs": [
        {
          "output_type": "execute_result",
          "data": {
            "text/plain": [
              "['sentiment_model.pkl']"
            ]
          },
          "metadata": {},
          "execution_count": 82
        }
      ]
    },
    {
      "cell_type": "markdown",
      "source": [
        "### Step 4.4: Prediction on the test data"
      ],
      "metadata": {
        "id": "9jnZ0KRC2LKn"
      }
    },
    {
      "cell_type": "code",
      "source": [
        "# Predict on the test set\n",
        "test_predictions = model.predict(X_test_tfidf)\n",
        "\n",
        "# Evaluate the predictions\n",
        "from sklearn.metrics import accuracy_score, classification_report\n",
        "\n",
        "# Assuming you have the true labels for your test set\n",
        "accuracy = accuracy_score(test_labels, test_predictions)\n",
        "print(f\"Test Accuracy: {accuracy * 100:.2f}%\")\n",
        "print(classification_report(test_labels, test_predictions))\n"
      ],
      "metadata": {
        "colab": {
          "base_uri": "https://localhost:8080/"
        },
        "id": "ClA2jvC32Ha2",
        "outputId": "a1782ec4-cb89-4c77-e296-cea6a0ebe993"
      },
      "execution_count": 83,
      "outputs": [
        {
          "output_type": "stream",
          "name": "stdout",
          "text": [
            "Test Accuracy: 88.05%\n",
            "              precision    recall  f1-score   support\n",
            "\n",
            "           0       0.88      0.88      0.88     12500\n",
            "           1       0.88      0.88      0.88     12500\n",
            "\n",
            "    accuracy                           0.88     25000\n",
            "   macro avg       0.88      0.88      0.88     25000\n",
            "weighted avg       0.88      0.88      0.88     25000\n",
            "\n"
          ]
        }
      ]
    },
    {
      "cell_type": "markdown",
      "source": [
        "## Step 5: Hyperparameter tuning"
      ],
      "metadata": {
        "id": "mcWltCXZ3zGE"
      }
    },
    {
      "cell_type": "code",
      "source": [
        "from sklearn.model_selection import GridSearchCV\n",
        "\n",
        "# Define the parameter grid\n",
        "param_grid = {\n",
        "    'C': [0.1, 1, 10],  # Regularization strength\n",
        "    'solver': ['liblinear', 'saga']  # Different solvers\n",
        "}\n",
        "\n",
        "# Initialize the grid search\n",
        "grid_search = GridSearchCV(LogisticRegression(), param_grid, cv=5, scoring='accuracy')\n",
        "grid_search.fit(X_train, y_train)\n",
        "\n",
        "print(\"Best parameters:\", grid_search.best_params_)\n",
        "print(\"Best cross-validation score:\", grid_search.best_score_)\n"
      ],
      "metadata": {
        "colab": {
          "base_uri": "https://localhost:8080/"
        },
        "id": "JJLNlsmi2QPH",
        "outputId": "b9b02714-c5a2-4998-b8c7-4aedd5694aa6"
      },
      "execution_count": 84,
      "outputs": [
        {
          "output_type": "stream",
          "name": "stdout",
          "text": [
            "Best parameters: {'C': 10, 'solver': 'liblinear'}\n",
            "Best cross-validation score: 0.8894500000000001\n"
          ]
        }
      ]
    },
    {
      "cell_type": "markdown",
      "source": [
        "### Cross Validation"
      ],
      "metadata": {
        "id": "QIRUbBm237_-"
      }
    },
    {
      "cell_type": "code",
      "source": [
        "from sklearn.model_selection import cross_val_score\n",
        "\n",
        "cv_scores = cross_val_score(model, X_train_tfidf, train_labels, cv=5)\n",
        "print(\"Cross-validated scores:\", cv_scores)\n",
        "print(\"Mean cross-validation score:\", cv_scores.mean())\n"
      ],
      "metadata": {
        "colab": {
          "base_uri": "https://localhost:8080/"
        },
        "id": "FffNuSQ13t1m",
        "outputId": "7b09feb7-6860-4b23-f0f5-858853511045"
      },
      "execution_count": 85,
      "outputs": [
        {
          "output_type": "stream",
          "name": "stdout",
          "text": [
            "Cross-validated scores: [0.8804 0.8776 0.8874 0.9002 0.8898]\n",
            "Mean cross-validation score: 0.8870799999999999\n"
          ]
        }
      ]
    },
    {
      "cell_type": "markdown",
      "source": [
        "## Step 6:Visualization"
      ],
      "metadata": {
        "id": "126fp4SE4HAJ"
      }
    },
    {
      "cell_type": "markdown",
      "source": [
        "### Confusion Matrix"
      ],
      "metadata": {
        "id": "Oi98prNU4uUg"
      }
    },
    {
      "cell_type": "code",
      "source": [
        "import matplotlib.pyplot as plt\n",
        "import seaborn as sns\n",
        "from sklearn.metrics import confusion_matrix\n",
        "\n",
        "# Compute confusion matrix\n",
        "cm = confusion_matrix(test_labels, test_predictions)\n",
        "\n",
        "# Plot confusion matrix\n",
        "plt.figure(figsize=(8, 6))\n",
        "sns.heatmap(cm, annot=True, fmt='d', cmap='Blues', xticklabels=['Negative', 'Positive'], yticklabels=['Negative', 'Positive'])\n",
        "plt.ylabel('Actual')\n",
        "plt.xlabel('Predicted')\n",
        "plt.title('Confusion Matrix')\n",
        "plt.show()\n"
      ],
      "metadata": {
        "colab": {
          "base_uri": "https://localhost:8080/",
          "height": 564
        },
        "id": "n0BfAckQ36Np",
        "outputId": "ba21c61d-d072-47cc-ef38-196170119b1a"
      },
      "execution_count": 86,
      "outputs": [
        {
          "output_type": "display_data",
          "data": {
            "text/plain": [
              "<Figure size 800x600 with 2 Axes>"
            ],
            "image/png": "[encoded data removed]"
          },
          "metadata": {}
        }
      ]
    },
    {
      "cell_type": "markdown",
      "source": [
        "### ROC Score"
      ],
      "metadata": {
        "id": "oHKhul-84Qtw"
      }
    },
    {
      "cell_type": "code",
      "source": [
        "from sklearn.metrics import roc_curve, auc\n",
        "\n",
        "# Calculate the ROC curve\n",
        "fpr, tpr, thresholds = roc_curve(test_labels, model.predict_proba(X_test_tfidf)[:, 1])\n",
        "\n",
        "# Plot ROC curve\n",
        "plt.figure(figsize=(8, 6))\n",
        "plt.plot(fpr, tpr, color='blue', label='ROC curve (area = %0.2f)' % auc(fpr, tpr))\n",
        "plt.plot([0, 1], [0, 1], color='red', linestyle='--')\n",
        "plt.xlim([0.0, 1.0])\n",
        "plt.ylim([0.0, 1.05])\n",
        "plt.xlabel('False Positive Rate')\n",
        "plt.ylabel('True Positive Rate')\n",
        "plt.title('Receiver Operating Characteristic (ROC) Curve')\n",
        "plt.legend(loc=\"lower right\")\n",
        "plt.show()\n"
      ],
      "metadata": {
        "colab": {
          "base_uri": "https://localhost:8080/",
          "height": 564
        },
        "id": "bgWCjfXH4KTt",
        "outputId": "ef55c963-fd9f-4cc0-c066-f32989f5dd46"
      },
      "execution_count": 87,
      "outputs": [
        {
          "output_type": "display_data",
          "data": {
            "text/plain": [
              "<Figure size 800x600 with 1 Axes>"
            ],
            "image/png": "[encoded data removed]"
          },
          "metadata": {}
        }
      ]
    },
    {
      "cell_type": "markdown",
      "source": [
        "### Precision-recall curve"
      ],
      "metadata": {
        "id": "MUw2AFbT4WCI"
      }
    },
    {
      "cell_type": "code",
      "source": [
        "from sklearn.metrics import precision_recall_curve\n",
        "\n",
        "# Calculate precision and recall\n",
        "precision, recall, _ = precision_recall_curve(test_labels, model.predict_proba(X_test_tfidf)[:, 1])\n",
        "\n",
        "# Plot precision-recall curve\n",
        "plt.figure(figsize=(8, 6))\n",
        "plt.plot(recall, precision, marker='.')\n",
        "plt.xlabel('Recall')\n",
        "plt.ylabel('Precision')\n",
        "plt.title('Precision-Recall Curve')\n",
        "plt.show()\n"
      ],
      "metadata": {
        "colab": {
          "base_uri": "https://localhost:8080/",
          "height": 564
        },
        "id": "jgqFWxQs4ORb",
        "outputId": "0b4a563b-6c15-406c-813a-d2b06134e524"
      },
      "execution_count": 88,
      "outputs": [
        {
          "output_type": "display_data",
          "data": {
            "text/plain": [
              "<Figure size 800x600 with 1 Axes>"
            ],
            "image/png": "[encoded data removed]"
          },
          "metadata": {}
        }
      ]
    },
    {
      "cell_type": "code",
      "source": [
        "# using the XGBoost for binary classification\n",
        "\n",
        "from sklearn.ensemble import RandomForestClassifier\n",
        "from sklearn.model_selection import train_test_split\n",
        "import joblib  # For saving the model later\n",
        "from sklearn.feature_extraction.text import TfidfVectorizer\n",
        "\n",
        "# Create and fit the TF-IDF vectorizer\n",
        "tfidf_vectorizer = TfidfVectorizer(max_features=20000)  # Adjust max_features as needed\n",
        "tfidf_vectorizer.fit(train_data_cleaned)  # Fit on your cleaned training data\n",
        "\n",
        "# Transform both the training and test data\n",
        "X_train_tfidf = tfidf_vectorizer.transform(train_data_cleaned)\n",
        "X_test_tfidf = tfidf_vectorizer.transform(test_data_cleaned)  # Assuming you have cleaned test data\n",
        "\n",
        "# Splitting the training data if needed\n",
        "X_train, X_val, y_train, y_val = train_test_split(X_train_tfidf, train_labels, test_size=0.2, random_state=42)\n",
        "\n",
        "#  Create and Train the Random Forest Classifier\n",
        "rf_classifier = RandomForestClassifier(n_estimators=100, random_state=42)  # Adjust n_estimators as needed\n",
        "rf_classifier.fit(X_train, y_train)\n",
        "\n",
        "#Make Predictions\n",
        "y_pred = rf_classifier.predict(X_test_tfidf)\n",
        "\n",
        "# Evaluate the model on the validation set\n",
        "val_accuracy = rf_classifier.score(X_val, y_val)\n",
        "print(f\"Validation Accuracy: {val_accuracy * 100:.2f}%\")"
      ],
      "metadata": {
        "colab": {
          "base_uri": "https://localhost:8080/"
        },
        "id": "syVUaydXVXnP",
        "outputId": "48a2fe51-07ee-4981-a374-eba4888d8f87"
      },
      "execution_count": 89,
      "outputs": [
        {
          "output_type": "stream",
          "name": "stdout",
          "text": [
            "Validation Accuracy: 83.70%\n"
          ]
        }
      ]
    },
    {
      "cell_type": "code",
      "source": [
        "# using the XGBoost for binary classification\n",
        "\n",
        "import xgboost as xgb\n",
        "from sklearn.model_selection import train_test_split\n",
        "import joblib  # For saving the model later\n",
        "from sklearn.feature_extraction.text import TfidfVectorize\n",
        "\n",
        "# Splitting the training data if needed\n",
        "X_train, X_val, y_train, y_val = train_test_split(X_train_tfidf, train_labels, test_size=0.2, random_state=42)\n",
        "\n",
        "# Step 3: Create and Train the XGBoost Classifier\n",
        "xgboost_classifier = xgb.XGBClassifier(eval_metric='logloss')\n",
        "xgboost_classifier.fit(X_train, y_train)\n",
        "\n",
        "# Step 4: Make Predictions\n",
        "y_pred = xgboost_classifier.predict(X_test_tfidf)\n",
        "\n",
        "# Evaluate the model on the validation set\n",
        "val_accuracy = xgboost_classifier.score(X_val, y_val)\n",
        "print(f\"Validation Accuracy: {val_accuracy * 100:.2f}%\")"
      ],
      "metadata": {
        "colab": {
          "base_uri": "https://localhost:8080/"
        },
        "id": "bTv68EUA-2jG",
        "outputId": "b641a19a-173a-4380-c438-d543603e5485"
      },
      "execution_count": 90,
      "outputs": [
        {
          "output_type": "stream",
          "name": "stdout",
          "text": [
            "Validation Accuracy: 85.28%\n"
          ]
        }
      ]
    },
    {
      "cell_type": "markdown",
      "source": [
        "### We getting better Accuracy for Logistic Rgression then XGB & Random Forest.\n",
        "\n",
        "\n",
        "\n",
        "*   XGBosst with Validation Accuracy : 85.90%\n",
        "*   Random Forest Classifier with Validation Accuracy : 83.70%\n",
        "*   Logistic Regression with Validation Accuracy : 88.05%\n",
        "\n"
      ],
      "metadata": {
        "id": "tF0T5EqDVJd2"
      }
    },
    {
      "cell_type": "code",
      "source": [
        "# So, here we are using the Logistic Regression for Sentiment Prediction\n",
        "\n",
        "def predict_sentiment(review):\n",
        "    # Preprocess the input review\n",
        "    cleaned_review = preprocess_text(review)  # Use your preprocessing function\n",
        "    # Transform the review to TF-IDF\n",
        "    review_tfidf = tfidf_vectorizer.transform([cleaned_review])\n",
        "    # Predict sentiment\n",
        "    prediction = model.predict(review_tfidf)\n",
        "    return \"Positive\" if prediction[0] == 1 else \"Negative\"\n"
      ],
      "metadata": {
        "id": "oBOATMG59Qn4"
      },
      "execution_count": 91,
      "outputs": []
    },
    {
      "cell_type": "code",
      "source": [
        "def main():\n",
        "    print(\"Welcome to the Sentiment Analysis Model!\")\n",
        "    print(\"Type 'exit' to quit.\")\n",
        "\n",
        "    while True:\n",
        "        review = input(\"Enter a movie review: \")\n",
        "        if review.lower() == 'exit':\n",
        "            break\n",
        "        sentiment = predict_sentiment(review)\n",
        "        print(f\"Predicted Sentiment: {sentiment}\")\n",
        "\n",
        "if __name__ == \"__main__\":\n",
        "    main()\n"
      ],
      "metadata": {
        "colab": {
          "base_uri": "https://localhost:8080/"
        },
        "id": "Q0n32GTJ9e55",
        "outputId": "067598b8-301c-44d3-b305-9c0daafb92c0"
      },
      "execution_count": 92,
      "outputs": [
        {
          "name": "stdout",
          "output_type": "stream",
          "text": [
            "Welcome to the Sentiment Analysis Model!\n",
            "Type 'exit' to quit.\n",
            "Enter a movie review: I couldn't connect with any of the characters, and the plot was boring and predictable.\n",
            "Predicted Sentiment: Negative\n",
            "Enter a movie review: This is one of the best movies I have ever seen! It made me laugh, cry, and think deeply about life.\n",
            "Predicted Sentiment: Positive\n",
            "Enter a movie review: An absolute disappointment! The trailer was misleading, and I regret watching it\n",
            "Predicted Sentiment: Negative\n",
            "Enter a movie review: A heartwarming tale with brilliant performances. The plot twists were unexpected and well executed.\n",
            "Predicted Sentiment: Positive\n",
            "Enter a movie review: This movie was an absolute masterpiece! The storyline was engaging, and the acting was top-notch\n",
            "Predicted Sentiment: Positive\n",
            "Enter a movie review: exit\n"
          ]
        }
      ]
    },
    {
      "cell_type": "code",
      "source": [],
      "metadata": {
        "id": "ERy2y4iaB1Hr"
      },
      "execution_count": 92,
      "outputs": []
    }
  ]
}